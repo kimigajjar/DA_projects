{
 "cells": [
  {
   "cell_type": "code",
   "execution_count": 1,
   "id": "a93c20e9",
   "metadata": {},
   "outputs": [],
   "source": [
    "import numpy as np\n",
    "import pandas as pd\n",
    "import seaborn as sns\n",
    "import matplotlib.pyplot as plt\n",
    "%matplotlib inline"
   ]
  },
  {
   "cell_type": "code",
   "execution_count": 2,
   "id": "be032d5c",
   "metadata": {},
   "outputs": [],
   "source": [
    "data = pd.read_csv(\"3. Police Data.csv\")"
   ]
  },
  {
   "cell_type": "code",
   "execution_count": 3,
   "id": "e7966e2e",
   "metadata": {},
   "outputs": [
    {
     "data": {
      "text/html": [
       "<div>\n",
       "<style scoped>\n",
       "    .dataframe tbody tr th:only-of-type {\n",
       "        vertical-align: middle;\n",
       "    }\n",
       "\n",
       "    .dataframe tbody tr th {\n",
       "        vertical-align: top;\n",
       "    }\n",
       "\n",
       "    .dataframe thead th {\n",
       "        text-align: right;\n",
       "    }\n",
       "</style>\n",
       "<table border=\"1\" class=\"dataframe\">\n",
       "  <thead>\n",
       "    <tr style=\"text-align: right;\">\n",
       "      <th></th>\n",
       "      <th>stop_date</th>\n",
       "      <th>stop_time</th>\n",
       "      <th>country_name</th>\n",
       "      <th>driver_gender</th>\n",
       "      <th>driver_age_raw</th>\n",
       "      <th>driver_age</th>\n",
       "      <th>driver_race</th>\n",
       "      <th>violation_raw</th>\n",
       "      <th>violation</th>\n",
       "      <th>search_conducted</th>\n",
       "      <th>search_type</th>\n",
       "      <th>stop_outcome</th>\n",
       "      <th>is_arrested</th>\n",
       "      <th>stop_duration</th>\n",
       "      <th>drugs_related_stop</th>\n",
       "    </tr>\n",
       "  </thead>\n",
       "  <tbody>\n",
       "    <tr>\n",
       "      <th>0</th>\n",
       "      <td>1/2/2005</td>\n",
       "      <td>1:55</td>\n",
       "      <td>NaN</td>\n",
       "      <td>M</td>\n",
       "      <td>1985.0</td>\n",
       "      <td>20.0</td>\n",
       "      <td>White</td>\n",
       "      <td>Speeding</td>\n",
       "      <td>Speeding</td>\n",
       "      <td>False</td>\n",
       "      <td>NaN</td>\n",
       "      <td>Citation</td>\n",
       "      <td>False</td>\n",
       "      <td>0-15 Min</td>\n",
       "      <td>False</td>\n",
       "    </tr>\n",
       "    <tr>\n",
       "      <th>1</th>\n",
       "      <td>1/18/2005</td>\n",
       "      <td>8:15</td>\n",
       "      <td>NaN</td>\n",
       "      <td>M</td>\n",
       "      <td>1965.0</td>\n",
       "      <td>40.0</td>\n",
       "      <td>White</td>\n",
       "      <td>Speeding</td>\n",
       "      <td>Speeding</td>\n",
       "      <td>False</td>\n",
       "      <td>NaN</td>\n",
       "      <td>Citation</td>\n",
       "      <td>False</td>\n",
       "      <td>0-15 Min</td>\n",
       "      <td>False</td>\n",
       "    </tr>\n",
       "    <tr>\n",
       "      <th>2</th>\n",
       "      <td>1/23/2005</td>\n",
       "      <td>23:15</td>\n",
       "      <td>NaN</td>\n",
       "      <td>M</td>\n",
       "      <td>1972.0</td>\n",
       "      <td>33.0</td>\n",
       "      <td>White</td>\n",
       "      <td>Speeding</td>\n",
       "      <td>Speeding</td>\n",
       "      <td>False</td>\n",
       "      <td>NaN</td>\n",
       "      <td>Citation</td>\n",
       "      <td>False</td>\n",
       "      <td>0-15 Min</td>\n",
       "      <td>False</td>\n",
       "    </tr>\n",
       "    <tr>\n",
       "      <th>3</th>\n",
       "      <td>2/20/2005</td>\n",
       "      <td>17:15</td>\n",
       "      <td>NaN</td>\n",
       "      <td>M</td>\n",
       "      <td>1986.0</td>\n",
       "      <td>19.0</td>\n",
       "      <td>White</td>\n",
       "      <td>Call for Service</td>\n",
       "      <td>Other</td>\n",
       "      <td>False</td>\n",
       "      <td>NaN</td>\n",
       "      <td>Arrest Driver</td>\n",
       "      <td>True</td>\n",
       "      <td>16-30 Min</td>\n",
       "      <td>False</td>\n",
       "    </tr>\n",
       "    <tr>\n",
       "      <th>4</th>\n",
       "      <td>3/14/2005</td>\n",
       "      <td>10:00</td>\n",
       "      <td>NaN</td>\n",
       "      <td>F</td>\n",
       "      <td>1984.0</td>\n",
       "      <td>21.0</td>\n",
       "      <td>White</td>\n",
       "      <td>Speeding</td>\n",
       "      <td>Speeding</td>\n",
       "      <td>False</td>\n",
       "      <td>NaN</td>\n",
       "      <td>Citation</td>\n",
       "      <td>False</td>\n",
       "      <td>0-15 Min</td>\n",
       "      <td>False</td>\n",
       "    </tr>\n",
       "  </tbody>\n",
       "</table>\n",
       "</div>"
      ],
      "text/plain": [
       "   stop_date stop_time  country_name driver_gender  driver_age_raw  \\\n",
       "0   1/2/2005      1:55           NaN             M          1985.0   \n",
       "1  1/18/2005      8:15           NaN             M          1965.0   \n",
       "2  1/23/2005     23:15           NaN             M          1972.0   \n",
       "3  2/20/2005     17:15           NaN             M          1986.0   \n",
       "4  3/14/2005     10:00           NaN             F          1984.0   \n",
       "\n",
       "   driver_age driver_race     violation_raw violation  search_conducted  \\\n",
       "0        20.0       White          Speeding  Speeding             False   \n",
       "1        40.0       White          Speeding  Speeding             False   \n",
       "2        33.0       White          Speeding  Speeding             False   \n",
       "3        19.0       White  Call for Service     Other             False   \n",
       "4        21.0       White          Speeding  Speeding             False   \n",
       "\n",
       "  search_type   stop_outcome is_arrested stop_duration  drugs_related_stop  \n",
       "0         NaN       Citation       False      0-15 Min               False  \n",
       "1         NaN       Citation       False      0-15 Min               False  \n",
       "2         NaN       Citation       False      0-15 Min               False  \n",
       "3         NaN  Arrest Driver        True     16-30 Min               False  \n",
       "4         NaN       Citation       False      0-15 Min               False  "
      ]
     },
     "execution_count": 3,
     "metadata": {},
     "output_type": "execute_result"
    }
   ],
   "source": [
    "data.head()"
   ]
  },
  {
   "cell_type": "code",
   "execution_count": 4,
   "id": "97bf8a76",
   "metadata": {},
   "outputs": [
    {
     "name": "stdout",
     "output_type": "stream",
     "text": [
      "total number of rows in data set are :  65535\n"
     ]
    }
   ],
   "source": [
    "print('total number of rows in data set are : ',data.shape[0])"
   ]
  },
  {
   "cell_type": "code",
   "execution_count": 5,
   "id": "bdba6550",
   "metadata": {},
   "outputs": [
    {
     "name": "stdout",
     "output_type": "stream",
     "text": [
      "total number of columns in data set are :  15\n"
     ]
    }
   ],
   "source": [
    "print('total number of columns in data set are : ',data.shape[1])"
   ]
  },
  {
   "cell_type": "code",
   "execution_count": 6,
   "id": "0634ec58",
   "metadata": {},
   "outputs": [
    {
     "data": {
      "text/plain": [
       "Index(['stop_date', 'stop_time', 'country_name', 'driver_gender',\n",
       "       'driver_age_raw', 'driver_age', 'driver_race', 'violation_raw',\n",
       "       'violation', 'search_conducted', 'search_type', 'stop_outcome',\n",
       "       'is_arrested', 'stop_duration', 'drugs_related_stop'],\n",
       "      dtype='object')"
      ]
     },
     "execution_count": 6,
     "metadata": {},
     "output_type": "execute_result"
    }
   ],
   "source": [
    "data.columns"
   ]
  },
  {
   "cell_type": "code",
   "execution_count": 7,
   "id": "41c464b1",
   "metadata": {},
   "outputs": [
    {
     "data": {
      "text/html": [
       "<div>\n",
       "<style scoped>\n",
       "    .dataframe tbody tr th:only-of-type {\n",
       "        vertical-align: middle;\n",
       "    }\n",
       "\n",
       "    .dataframe tbody tr th {\n",
       "        vertical-align: top;\n",
       "    }\n",
       "\n",
       "    .dataframe thead th {\n",
       "        text-align: right;\n",
       "    }\n",
       "</style>\n",
       "<table border=\"1\" class=\"dataframe\">\n",
       "  <thead>\n",
       "    <tr style=\"text-align: right;\">\n",
       "      <th></th>\n",
       "      <th>country_name</th>\n",
       "      <th>driver_age_raw</th>\n",
       "      <th>driver_age</th>\n",
       "    </tr>\n",
       "  </thead>\n",
       "  <tbody>\n",
       "    <tr>\n",
       "      <th>count</th>\n",
       "      <td>0.0</td>\n",
       "      <td>61481.000000</td>\n",
       "      <td>61228.000000</td>\n",
       "    </tr>\n",
       "    <tr>\n",
       "      <th>mean</th>\n",
       "      <td>NaN</td>\n",
       "      <td>1967.791106</td>\n",
       "      <td>34.148984</td>\n",
       "    </tr>\n",
       "    <tr>\n",
       "      <th>std</th>\n",
       "      <td>NaN</td>\n",
       "      <td>121.050106</td>\n",
       "      <td>12.760710</td>\n",
       "    </tr>\n",
       "    <tr>\n",
       "      <th>min</th>\n",
       "      <td>NaN</td>\n",
       "      <td>0.000000</td>\n",
       "      <td>15.000000</td>\n",
       "    </tr>\n",
       "    <tr>\n",
       "      <th>25%</th>\n",
       "      <td>NaN</td>\n",
       "      <td>1965.000000</td>\n",
       "      <td>23.000000</td>\n",
       "    </tr>\n",
       "    <tr>\n",
       "      <th>50%</th>\n",
       "      <td>NaN</td>\n",
       "      <td>1978.000000</td>\n",
       "      <td>31.000000</td>\n",
       "    </tr>\n",
       "    <tr>\n",
       "      <th>75%</th>\n",
       "      <td>NaN</td>\n",
       "      <td>1985.000000</td>\n",
       "      <td>43.000000</td>\n",
       "    </tr>\n",
       "    <tr>\n",
       "      <th>max</th>\n",
       "      <td>NaN</td>\n",
       "      <td>8801.000000</td>\n",
       "      <td>88.000000</td>\n",
       "    </tr>\n",
       "  </tbody>\n",
       "</table>\n",
       "</div>"
      ],
      "text/plain": [
       "       country_name  driver_age_raw    driver_age\n",
       "count           0.0    61481.000000  61228.000000\n",
       "mean            NaN     1967.791106     34.148984\n",
       "std             NaN      121.050106     12.760710\n",
       "min             NaN        0.000000     15.000000\n",
       "25%             NaN     1965.000000     23.000000\n",
       "50%             NaN     1978.000000     31.000000\n",
       "75%             NaN     1985.000000     43.000000\n",
       "max             NaN     8801.000000     88.000000"
      ]
     },
     "execution_count": 7,
     "metadata": {},
     "output_type": "execute_result"
    }
   ],
   "source": [
    "data.describe()"
   ]
  },
  {
   "cell_type": "code",
   "execution_count": 8,
   "id": "5cf8844d",
   "metadata": {},
   "outputs": [
    {
     "name": "stdout",
     "output_type": "stream",
     "text": [
      "<class 'pandas.core.frame.DataFrame'>\n",
      "RangeIndex: 65535 entries, 0 to 65534\n",
      "Data columns (total 15 columns):\n",
      " #   Column              Non-Null Count  Dtype  \n",
      "---  ------              --------------  -----  \n",
      " 0   stop_date           65535 non-null  object \n",
      " 1   stop_time           65535 non-null  object \n",
      " 2   country_name        0 non-null      float64\n",
      " 3   driver_gender       61474 non-null  object \n",
      " 4   driver_age_raw      61481 non-null  float64\n",
      " 5   driver_age          61228 non-null  float64\n",
      " 6   driver_race         61475 non-null  object \n",
      " 7   violation_raw       61475 non-null  object \n",
      " 8   violation           61475 non-null  object \n",
      " 9   search_conducted    65535 non-null  bool   \n",
      " 10  search_type         2479 non-null   object \n",
      " 11  stop_outcome        61475 non-null  object \n",
      " 12  is_arrested         61475 non-null  object \n",
      " 13  stop_duration       61475 non-null  object \n",
      " 14  drugs_related_stop  65535 non-null  bool   \n",
      "dtypes: bool(2), float64(3), object(10)\n",
      "memory usage: 6.6+ MB\n"
     ]
    }
   ],
   "source": [
    "data.info()"
   ]
  },
  {
   "cell_type": "code",
   "execution_count": 9,
   "id": "a191b5dc",
   "metadata": {},
   "outputs": [
    {
     "data": {
      "text/plain": [
       "<AxesSubplot:title={'center':'driver_race'}>"
      ]
     },
     "execution_count": 9,
     "metadata": {},
     "output_type": "execute_result"
    },
    {
     "data": {
      "image/png": "[encoded data removed]",
      "text/plain": [
       "<Figure size 720x360 with 1 Axes>"
      ]
     },
     "metadata": {
      "needs_background": "light"
     },
     "output_type": "display_data"
    }
   ],
   "source": [
    "data['driver_race'].value_counts(normalize=True).plot.bar(figsize=(10,5),title='driver_race')"
   ]
  },
  {
   "cell_type": "code",
   "execution_count": 10,
   "id": "b7dee804",
   "metadata": {},
   "outputs": [
    {
     "data": {
      "text/plain": [
       "<AxesSubplot:title={'center':'violation_raw'}>"
      ]
     },
     "execution_count": 10,
     "metadata": {},
     "output_type": "execute_result"
    },
    {
     "data": {
      "image/png": "[encoded data removed]",
      "text/plain": [
       "<Figure size 720x360 with 1 Axes>"
      ]
     },
     "metadata": {
      "needs_background": "light"
     },
     "output_type": "display_data"
    }
   ],
   "source": [
    "data['violation_raw'].value_counts(normalize=True).plot.bar(figsize=(10,5),title='violation_raw')"
   ]
  },
  {
   "cell_type": "code",
   "execution_count": 11,
   "id": "cb231ef6",
   "metadata": {},
   "outputs": [
    {
     "data": {
      "text/plain": [
       "<AxesSubplot:title={'center':'violation'}>"
      ]
     },
     "execution_count": 11,
     "metadata": {},
     "output_type": "execute_result"
    },
    {
     "data": {
      "image/png": "[encoded data removed]",
      "text/plain": [
       "<Figure size 720x360 with 1 Axes>"
      ]
     },
     "metadata": {
      "needs_background": "light"
     },
     "output_type": "display_data"
    }
   ],
   "source": [
    "data['violation'].value_counts(normalize=True).plot.bar(figsize=(10,5),title='violation')"
   ]
  },
  {
   "cell_type": "code",
   "execution_count": 12,
   "id": "7acc7f07",
   "metadata": {},
   "outputs": [
    {
     "data": {
      "text/plain": [
       "<AxesSubplot:title={'center':'search_conducted'}>"
      ]
     },
     "execution_count": 12,
     "metadata": {},
     "output_type": "execute_result"
    },
    {
     "data": {
      "image/png": "[encoded data removed]",
      "text/plain": [
       "<Figure size 720x360 with 1 Axes>"
      ]
     },
     "metadata": {
      "needs_background": "light"
     },
     "output_type": "display_data"
    }
   ],
   "source": [
    "data['search_conducted'].value_counts(normalize=True).plot.bar(figsize=(10,5),title='search_conducted')"
   ]
  },
  {
   "cell_type": "code",
   "execution_count": 13,
   "id": "0b020c18",
   "metadata": {},
   "outputs": [
    {
     "data": {
      "text/plain": [
       "<AxesSubplot:title={'center':'search_type'}>"
      ]
     },
     "execution_count": 13,
     "metadata": {},
     "output_type": "execute_result"
    },
    {
     "data": {
      "image/png": "[encoded data removed]",
      "text/plain": [
       "<Figure size 720x720 with 1 Axes>"
      ]
     },
     "metadata": {
      "needs_background": "light"
     },
     "output_type": "display_data"
    }
   ],
   "source": [
    "data['search_type'].value_counts(normalize=True).plot.bar(figsize=(10,10),title='search_type')"
   ]
  },
  {
   "cell_type": "code",
   "execution_count": 14,
   "id": "30e37a00",
   "metadata": {},
   "outputs": [
    {
     "data": {
      "text/plain": [
       "<AxesSubplot:title={'center':'stop_outcome'}>"
      ]
     },
     "execution_count": 14,
     "metadata": {},
     "output_type": "execute_result"
    },
    {
     "data": {
      "image/png": "[encoded data removed]",
      "text/plain": [
       "<Figure size 720x360 with 1 Axes>"
      ]
     },
     "metadata": {
      "needs_background": "light"
     },
     "output_type": "display_data"
    }
   ],
   "source": [
    "data['stop_outcome'].value_counts(normalize=True).plot.bar(figsize=(10,5),title='stop_outcome')"
   ]
  },
  {
   "cell_type": "code",
   "execution_count": 15,
   "id": "522ddbfc",
   "metadata": {},
   "outputs": [
    {
     "data": {
      "text/plain": [
       "<AxesSubplot:title={'center':'is_arrested'}>"
      ]
     },
     "execution_count": 15,
     "metadata": {},
     "output_type": "execute_result"
    },
    {
     "data": {
      "image/png": "[encoded data removed]",
      "text/plain": [
       "<Figure size 720x360 with 1 Axes>"
      ]
     },
     "metadata": {
      "needs_background": "light"
     },
     "output_type": "display_data"
    }
   ],
   "source": [
    "data['is_arrested'].value_counts(normalize=True).plot.bar(figsize=(10,5),title='is_arrested')"
   ]
  },
  {
   "cell_type": "code",
   "execution_count": 16,
   "id": "a4549edf",
   "metadata": {},
   "outputs": [
    {
     "data": {
      "text/plain": [
       "<AxesSubplot:title={'center':'drugs_related_stop'}>"
      ]
     },
     "execution_count": 16,
     "metadata": {},
     "output_type": "execute_result"
    },
    {
     "data": {
      "image/png": "[encoded data removed]",
      "text/plain": [
       "<Figure size 720x360 with 1 Axes>"
      ]
     },
     "metadata": {
      "needs_background": "light"
     },
     "output_type": "display_data"
    }
   ],
   "source": [
    "data['drugs_related_stop'].value_counts(normalize=True).plot.bar(figsize=(10,5),title='drugs_related_stop')"
   ]
  },
  {
   "cell_type": "code",
   "execution_count": 17,
   "id": "1514f207",
   "metadata": {},
   "outputs": [],
   "source": [
    "data.drop(columns=['country_name'],inplace=True)"
   ]
  },
  {
   "cell_type": "code",
   "execution_count": 59,
   "id": "e2329722",
   "metadata": {},
   "outputs": [
    {
     "data": {
      "text/html": [
       "<div>\n",
       "<style scoped>\n",
       "    .dataframe tbody tr th:only-of-type {\n",
       "        vertical-align: middle;\n",
       "    }\n",
       "\n",
       "    .dataframe tbody tr th {\n",
       "        vertical-align: top;\n",
       "    }\n",
       "\n",
       "    .dataframe thead th {\n",
       "        text-align: right;\n",
       "    }\n",
       "</style>\n",
       "<table border=\"1\" class=\"dataframe\">\n",
       "  <thead>\n",
       "    <tr style=\"text-align: right;\">\n",
       "      <th></th>\n",
       "      <th>stop_time</th>\n",
       "      <th>driver_age_raw</th>\n",
       "      <th>driver_age</th>\n",
       "      <th>stop_outcome</th>\n",
       "      <th>stop_duration</th>\n",
       "      <th>driver_age_raw_log</th>\n",
       "      <th>driver_age_log</th>\n",
       "      <th>driver_gender_F</th>\n",
       "      <th>driver_gender_M</th>\n",
       "      <th>driver_race_Asian</th>\n",
       "      <th>...</th>\n",
       "      <th>search_type_Probable Cause</th>\n",
       "      <th>search_type_Probable Cause,Protective Frisk</th>\n",
       "      <th>search_type_Probable Cause,Reasonable Suspicion</th>\n",
       "      <th>search_type_Protective Frisk</th>\n",
       "      <th>search_type_Protective Frisk,Reasonable Suspicion</th>\n",
       "      <th>search_type_Reasonable Suspicion</th>\n",
       "      <th>is_arrested_False</th>\n",
       "      <th>is_arrested_True</th>\n",
       "      <th>drugs_related_stop_False</th>\n",
       "      <th>drugs_related_stop_True</th>\n",
       "    </tr>\n",
       "    <tr>\n",
       "      <th>stop_date</th>\n",
       "      <th></th>\n",
       "      <th></th>\n",
       "      <th></th>\n",
       "      <th></th>\n",
       "      <th></th>\n",
       "      <th></th>\n",
       "      <th></th>\n",
       "      <th></th>\n",
       "      <th></th>\n",
       "      <th></th>\n",
       "      <th></th>\n",
       "      <th></th>\n",
       "      <th></th>\n",
       "      <th></th>\n",
       "      <th></th>\n",
       "      <th></th>\n",
       "      <th></th>\n",
       "      <th></th>\n",
       "      <th></th>\n",
       "      <th></th>\n",
       "      <th></th>\n",
       "    </tr>\n",
       "  </thead>\n",
       "  <tbody>\n",
       "    <tr>\n",
       "      <th>2005-01-02</th>\n",
       "      <td>1:55</td>\n",
       "      <td>1985.000000</td>\n",
       "      <td>20.000000</td>\n",
       "      <td>Citation</td>\n",
       "      <td>0-15 Min</td>\n",
       "      <td>7.593374</td>\n",
       "      <td>2.995732</td>\n",
       "      <td>0</td>\n",
       "      <td>1</td>\n",
       "      <td>0</td>\n",
       "      <td>...</td>\n",
       "      <td>0</td>\n",
       "      <td>0</td>\n",
       "      <td>0</td>\n",
       "      <td>0</td>\n",
       "      <td>0</td>\n",
       "      <td>0</td>\n",
       "      <td>1</td>\n",
       "      <td>0</td>\n",
       "      <td>1</td>\n",
       "      <td>0</td>\n",
       "    </tr>\n",
       "    <tr>\n",
       "      <th>2005-01-18</th>\n",
       "      <td>8:15</td>\n",
       "      <td>1965.000000</td>\n",
       "      <td>40.000000</td>\n",
       "      <td>Citation</td>\n",
       "      <td>0-15 Min</td>\n",
       "      <td>7.583248</td>\n",
       "      <td>3.688879</td>\n",
       "      <td>0</td>\n",
       "      <td>1</td>\n",
       "      <td>0</td>\n",
       "      <td>...</td>\n",
       "      <td>0</td>\n",
       "      <td>0</td>\n",
       "      <td>0</td>\n",
       "      <td>0</td>\n",
       "      <td>0</td>\n",
       "      <td>0</td>\n",
       "      <td>1</td>\n",
       "      <td>0</td>\n",
       "      <td>1</td>\n",
       "      <td>0</td>\n",
       "    </tr>\n",
       "    <tr>\n",
       "      <th>2005-01-23</th>\n",
       "      <td>23:15</td>\n",
       "      <td>1972.000000</td>\n",
       "      <td>33.000000</td>\n",
       "      <td>Citation</td>\n",
       "      <td>0-15 Min</td>\n",
       "      <td>7.586804</td>\n",
       "      <td>3.496508</td>\n",
       "      <td>0</td>\n",
       "      <td>1</td>\n",
       "      <td>0</td>\n",
       "      <td>...</td>\n",
       "      <td>0</td>\n",
       "      <td>0</td>\n",
       "      <td>0</td>\n",
       "      <td>0</td>\n",
       "      <td>0</td>\n",
       "      <td>0</td>\n",
       "      <td>1</td>\n",
       "      <td>0</td>\n",
       "      <td>1</td>\n",
       "      <td>0</td>\n",
       "    </tr>\n",
       "    <tr>\n",
       "      <th>2005-02-20</th>\n",
       "      <td>17:15</td>\n",
       "      <td>1986.000000</td>\n",
       "      <td>19.000000</td>\n",
       "      <td>Arrest Driver</td>\n",
       "      <td>16-30 Min</td>\n",
       "      <td>7.593878</td>\n",
       "      <td>2.944439</td>\n",
       "      <td>0</td>\n",
       "      <td>1</td>\n",
       "      <td>0</td>\n",
       "      <td>...</td>\n",
       "      <td>0</td>\n",
       "      <td>0</td>\n",
       "      <td>0</td>\n",
       "      <td>0</td>\n",
       "      <td>0</td>\n",
       "      <td>0</td>\n",
       "      <td>0</td>\n",
       "      <td>1</td>\n",
       "      <td>1</td>\n",
       "      <td>0</td>\n",
       "    </tr>\n",
       "    <tr>\n",
       "      <th>2005-03-14</th>\n",
       "      <td>10:00</td>\n",
       "      <td>1984.000000</td>\n",
       "      <td>21.000000</td>\n",
       "      <td>Citation</td>\n",
       "      <td>0-15 Min</td>\n",
       "      <td>7.592870</td>\n",
       "      <td>3.044522</td>\n",
       "      <td>1</td>\n",
       "      <td>0</td>\n",
       "      <td>0</td>\n",
       "      <td>...</td>\n",
       "      <td>0</td>\n",
       "      <td>0</td>\n",
       "      <td>0</td>\n",
       "      <td>0</td>\n",
       "      <td>0</td>\n",
       "      <td>0</td>\n",
       "      <td>1</td>\n",
       "      <td>0</td>\n",
       "      <td>1</td>\n",
       "      <td>0</td>\n",
       "    </tr>\n",
       "    <tr>\n",
       "      <th>...</th>\n",
       "      <td>...</td>\n",
       "      <td>...</td>\n",
       "      <td>...</td>\n",
       "      <td>...</td>\n",
       "      <td>...</td>\n",
       "      <td>...</td>\n",
       "      <td>...</td>\n",
       "      <td>...</td>\n",
       "      <td>...</td>\n",
       "      <td>...</td>\n",
       "      <td>...</td>\n",
       "      <td>...</td>\n",
       "      <td>...</td>\n",
       "      <td>...</td>\n",
       "      <td>...</td>\n",
       "      <td>...</td>\n",
       "      <td>...</td>\n",
       "      <td>...</td>\n",
       "      <td>...</td>\n",
       "      <td>...</td>\n",
       "      <td>...</td>\n",
       "    </tr>\n",
       "    <tr>\n",
       "      <th>2012-12-06</th>\n",
       "      <td>17:54</td>\n",
       "      <td>1987.000000</td>\n",
       "      <td>25.000000</td>\n",
       "      <td>Citation</td>\n",
       "      <td>0-15 Min</td>\n",
       "      <td>7.594381</td>\n",
       "      <td>3.218876</td>\n",
       "      <td>1</td>\n",
       "      <td>0</td>\n",
       "      <td>0</td>\n",
       "      <td>...</td>\n",
       "      <td>0</td>\n",
       "      <td>0</td>\n",
       "      <td>0</td>\n",
       "      <td>0</td>\n",
       "      <td>0</td>\n",
       "      <td>0</td>\n",
       "      <td>1</td>\n",
       "      <td>0</td>\n",
       "      <td>1</td>\n",
       "      <td>0</td>\n",
       "    </tr>\n",
       "    <tr>\n",
       "      <th>2012-12-06</th>\n",
       "      <td>22:22</td>\n",
       "      <td>1954.000000</td>\n",
       "      <td>58.000000</td>\n",
       "      <td>Warning</td>\n",
       "      <td>0-15 Min</td>\n",
       "      <td>7.577634</td>\n",
       "      <td>4.060443</td>\n",
       "      <td>0</td>\n",
       "      <td>1</td>\n",
       "      <td>0</td>\n",
       "      <td>...</td>\n",
       "      <td>0</td>\n",
       "      <td>0</td>\n",
       "      <td>0</td>\n",
       "      <td>0</td>\n",
       "      <td>0</td>\n",
       "      <td>0</td>\n",
       "      <td>1</td>\n",
       "      <td>0</td>\n",
       "      <td>1</td>\n",
       "      <td>0</td>\n",
       "    </tr>\n",
       "    <tr>\n",
       "      <th>2012-12-06</th>\n",
       "      <td>23:20</td>\n",
       "      <td>1985.000000</td>\n",
       "      <td>27.000000</td>\n",
       "      <td>Citation</td>\n",
       "      <td>0-15 Min</td>\n",
       "      <td>7.593374</td>\n",
       "      <td>3.295837</td>\n",
       "      <td>0</td>\n",
       "      <td>1</td>\n",
       "      <td>0</td>\n",
       "      <td>...</td>\n",
       "      <td>0</td>\n",
       "      <td>0</td>\n",
       "      <td>0</td>\n",
       "      <td>0</td>\n",
       "      <td>0</td>\n",
       "      <td>0</td>\n",
       "      <td>1</td>\n",
       "      <td>0</td>\n",
       "      <td>1</td>\n",
       "      <td>0</td>\n",
       "    </tr>\n",
       "    <tr>\n",
       "      <th>2012-12-07</th>\n",
       "      <td>0:23</td>\n",
       "      <td>1967.791106</td>\n",
       "      <td>34.148984</td>\n",
       "      <td>Citation</td>\n",
       "      <td>0-15 Min</td>\n",
       "      <td>7.584667</td>\n",
       "      <td>3.530733</td>\n",
       "      <td>0</td>\n",
       "      <td>1</td>\n",
       "      <td>0</td>\n",
       "      <td>...</td>\n",
       "      <td>0</td>\n",
       "      <td>0</td>\n",
       "      <td>0</td>\n",
       "      <td>0</td>\n",
       "      <td>0</td>\n",
       "      <td>0</td>\n",
       "      <td>1</td>\n",
       "      <td>0</td>\n",
       "      <td>1</td>\n",
       "      <td>0</td>\n",
       "    </tr>\n",
       "    <tr>\n",
       "      <th>2012-12-07</th>\n",
       "      <td>0:30</td>\n",
       "      <td>1985.000000</td>\n",
       "      <td>27.000000</td>\n",
       "      <td>Citation</td>\n",
       "      <td>0-15 Min</td>\n",
       "      <td>7.593374</td>\n",
       "      <td>3.295837</td>\n",
       "      <td>1</td>\n",
       "      <td>0</td>\n",
       "      <td>0</td>\n",
       "      <td>...</td>\n",
       "      <td>0</td>\n",
       "      <td>0</td>\n",
       "      <td>0</td>\n",
       "      <td>0</td>\n",
       "      <td>0</td>\n",
       "      <td>0</td>\n",
       "      <td>1</td>\n",
       "      <td>0</td>\n",
       "      <td>1</td>\n",
       "      <td>0</td>\n",
       "    </tr>\n",
       "  </tbody>\n",
       "</table>\n",
       "<p>65535 rows × 61 columns</p>\n",
       "</div>"
      ],
      "text/plain": [
       "           stop_time  driver_age_raw  driver_age   stop_outcome stop_duration  \\\n",
       "stop_date                                                                       \n",
       "2005-01-02      1:55     1985.000000   20.000000       Citation      0-15 Min   \n",
       "2005-01-18      8:15     1965.000000   40.000000       Citation      0-15 Min   \n",
       "2005-01-23     23:15     1972.000000   33.000000       Citation      0-15 Min   \n",
       "2005-02-20     17:15     1986.000000   19.000000  Arrest Driver     16-30 Min   \n",
       "2005-03-14     10:00     1984.000000   21.000000       Citation      0-15 Min   \n",
       "...              ...             ...         ...            ...           ...   \n",
       "2012-12-06     17:54     1987.000000   25.000000       Citation      0-15 Min   \n",
       "2012-12-06     22:22     1954.000000   58.000000        Warning      0-15 Min   \n",
       "2012-12-06     23:20     1985.000000   27.000000       Citation      0-15 Min   \n",
       "2012-12-07      0:23     1967.791106   34.148984       Citation      0-15 Min   \n",
       "2012-12-07      0:30     1985.000000   27.000000       Citation      0-15 Min   \n",
       "\n",
       "            driver_age_raw_log  driver_age_log  driver_gender_F  \\\n",
       "stop_date                                                         \n",
       "2005-01-02            7.593374        2.995732                0   \n",
       "2005-01-18            7.583248        3.688879                0   \n",
       "2005-01-23            7.586804        3.496508                0   \n",
       "2005-02-20            7.593878        2.944439                0   \n",
       "2005-03-14            7.592870        3.044522                1   \n",
       "...                        ...             ...              ...   \n",
       "2012-12-06            7.594381        3.218876                1   \n",
       "2012-12-06            7.577634        4.060443                0   \n",
       "2012-12-06            7.593374        3.295837                0   \n",
       "2012-12-07            7.584667        3.530733                0   \n",
       "2012-12-07            7.593374        3.295837                1   \n",
       "\n",
       "            driver_gender_M  driver_race_Asian  ...  \\\n",
       "stop_date                                       ...   \n",
       "2005-01-02                1                  0  ...   \n",
       "2005-01-18                1                  0  ...   \n",
       "2005-01-23                1                  0  ...   \n",
       "2005-02-20                1                  0  ...   \n",
       "2005-03-14                0                  0  ...   \n",
       "...                     ...                ...  ...   \n",
       "2012-12-06                0                  0  ...   \n",
       "2012-12-06                1                  0  ...   \n",
       "2012-12-06                1                  0  ...   \n",
       "2012-12-07                1                  0  ...   \n",
       "2012-12-07                0                  0  ...   \n",
       "\n",
       "            search_type_Probable Cause  \\\n",
       "stop_date                                \n",
       "2005-01-02                           0   \n",
       "2005-01-18                           0   \n",
       "2005-01-23                           0   \n",
       "2005-02-20                           0   \n",
       "2005-03-14                           0   \n",
       "...                                ...   \n",
       "2012-12-06                           0   \n",
       "2012-12-06                           0   \n",
       "2012-12-06                           0   \n",
       "2012-12-07                           0   \n",
       "2012-12-07                           0   \n",
       "\n",
       "            search_type_Probable Cause,Protective Frisk  \\\n",
       "stop_date                                                 \n",
       "2005-01-02                                            0   \n",
       "2005-01-18                                            0   \n",
       "2005-01-23                                            0   \n",
       "2005-02-20                                            0   \n",
       "2005-03-14                                            0   \n",
       "...                                                 ...   \n",
       "2012-12-06                                            0   \n",
       "2012-12-06                                            0   \n",
       "2012-12-06                                            0   \n",
       "2012-12-07                                            0   \n",
       "2012-12-07                                            0   \n",
       "\n",
       "            search_type_Probable Cause,Reasonable Suspicion  \\\n",
       "stop_date                                                     \n",
       "2005-01-02                                                0   \n",
       "2005-01-18                                                0   \n",
       "2005-01-23                                                0   \n",
       "2005-02-20                                                0   \n",
       "2005-03-14                                                0   \n",
       "...                                                     ...   \n",
       "2012-12-06                                                0   \n",
       "2012-12-06                                                0   \n",
       "2012-12-06                                                0   \n",
       "2012-12-07                                                0   \n",
       "2012-12-07                                                0   \n",
       "\n",
       "            search_type_Protective Frisk  \\\n",
       "stop_date                                  \n",
       "2005-01-02                             0   \n",
       "2005-01-18                             0   \n",
       "2005-01-23                             0   \n",
       "2005-02-20                             0   \n",
       "2005-03-14                             0   \n",
       "...                                  ...   \n",
       "2012-12-06                             0   \n",
       "2012-12-06                             0   \n",
       "2012-12-06                             0   \n",
       "2012-12-07                             0   \n",
       "2012-12-07                             0   \n",
       "\n",
       "            search_type_Protective Frisk,Reasonable Suspicion  \\\n",
       "stop_date                                                       \n",
       "2005-01-02                                                  0   \n",
       "2005-01-18                                                  0   \n",
       "2005-01-23                                                  0   \n",
       "2005-02-20                                                  0   \n",
       "2005-03-14                                                  0   \n",
       "...                                                       ...   \n",
       "2012-12-06                                                  0   \n",
       "2012-12-06                                                  0   \n",
       "2012-12-06                                                  0   \n",
       "2012-12-07                                                  0   \n",
       "2012-12-07                                                  0   \n",
       "\n",
       "            search_type_Reasonable Suspicion  is_arrested_False  \\\n",
       "stop_date                                                         \n",
       "2005-01-02                                 0                  1   \n",
       "2005-01-18                                 0                  1   \n",
       "2005-01-23                                 0                  1   \n",
       "2005-02-20                                 0                  0   \n",
       "2005-03-14                                 0                  1   \n",
       "...                                      ...                ...   \n",
       "2012-12-06                                 0                  1   \n",
       "2012-12-06                                 0                  1   \n",
       "2012-12-06                                 0                  1   \n",
       "2012-12-07                                 0                  1   \n",
       "2012-12-07                                 0                  1   \n",
       "\n",
       "            is_arrested_True  drugs_related_stop_False  \\\n",
       "stop_date                                                \n",
       "2005-01-02                 0                         1   \n",
       "2005-01-18                 0                         1   \n",
       "2005-01-23                 0                         1   \n",
       "2005-02-20                 1                         1   \n",
       "2005-03-14                 0                         1   \n",
       "...                      ...                       ...   \n",
       "2012-12-06                 0                         1   \n",
       "2012-12-06                 0                         1   \n",
       "2012-12-06                 0                         1   \n",
       "2012-12-07                 0                         1   \n",
       "2012-12-07                 0                         1   \n",
       "\n",
       "            drugs_related_stop_True  \n",
       "stop_date                            \n",
       "2005-01-02                        0  \n",
       "2005-01-18                        0  \n",
       "2005-01-23                        0  \n",
       "2005-02-20                        0  \n",
       "2005-03-14                        0  \n",
       "...                             ...  \n",
       "2012-12-06                        0  \n",
       "2012-12-06                        0  \n",
       "2012-12-06                        0  \n",
       "2012-12-07                        0  \n",
       "2012-12-07                        0  \n",
       "\n",
       "[65535 rows x 61 columns]"
      ]
     },
     "execution_count": 59,
     "metadata": {},
     "output_type": "execute_result"
    }
   ],
   "source": [
    "data"
   ]
  },
  {
   "cell_type": "code",
   "execution_count": null,
   "id": "60cdd0b8",
   "metadata": {},
   "outputs": [],
   "source": []
  },
  {
   "cell_type": "code",
   "execution_count": 18,
   "id": "f8da112d",
   "metadata": {},
   "outputs": [
    {
     "data": {
      "text/plain": [
       "stop_date                 0\n",
       "stop_time                 0\n",
       "driver_gender          4061\n",
       "driver_age_raw         4054\n",
       "driver_age             4307\n",
       "driver_race            4060\n",
       "violation_raw          4060\n",
       "violation              4060\n",
       "search_conducted          0\n",
       "search_type           63056\n",
       "stop_outcome           4060\n",
       "is_arrested            4060\n",
       "stop_duration          4060\n",
       "drugs_related_stop        0\n",
       "dtype: int64"
      ]
     },
     "execution_count": 18,
     "metadata": {},
     "output_type": "execute_result"
    }
   ],
   "source": [
    "data.isnull().sum()"
   ]
  },
  {
   "cell_type": "code",
   "execution_count": 19,
   "id": "32be412c",
   "metadata": {},
   "outputs": [],
   "source": [
    "data['driver_gender'].fillna(data['driver_gender'].mode()[0],inplace=True)"
   ]
  },
  {
   "cell_type": "code",
   "execution_count": 20,
   "id": "acc98e5c",
   "metadata": {},
   "outputs": [],
   "source": [
    "data.driver_age_raw = data.driver_age_raw.fillna(data.driver_age_raw.mean())"
   ]
  },
  {
   "cell_type": "code",
   "execution_count": 21,
   "id": "0e2c091e",
   "metadata": {},
   "outputs": [
    {
     "name": "stderr",
     "output_type": "stream",
     "text": [
      "C:\\Users\\KIMI GAJJAR\\AppData\\Local\\Programs\\Python\\Python39\\lib\\site-packages\\pandas\\core\\arraylike.py:364: RuntimeWarning: divide by zero encountered in log\n",
      "  result = getattr(ufunc, method)(*inputs, **kwargs)\n"
     ]
    }
   ],
   "source": [
    "data['driver_age_raw_log'] = np.log(data['driver_age_raw'])"
   ]
  },
  {
   "cell_type": "code",
   "execution_count": 22,
   "id": "cd5f328b",
   "metadata": {},
   "outputs": [],
   "source": [
    "data.replace([np.inf,-np.inf],np.nan,inplace=True)"
   ]
  },
  {
   "cell_type": "code",
   "execution_count": 23,
   "id": "d2403b28",
   "metadata": {},
   "outputs": [],
   "source": [
    "data.driver_age_raw_log = data.driver_age_raw_log.fillna(data.driver_age_raw_log.mean())"
   ]
  },
  {
   "cell_type": "code",
   "execution_count": 24,
   "id": "6651de1c",
   "metadata": {},
   "outputs": [],
   "source": [
    "data.driver_age = data.driver_age.fillna(data.driver_age.mean())"
   ]
  },
  {
   "cell_type": "code",
   "execution_count": 25,
   "id": "09329a3b",
   "metadata": {},
   "outputs": [],
   "source": [
    "data['driver_age_log'] = np.log(data['driver_age'])"
   ]
  },
  {
   "cell_type": "code",
   "execution_count": 26,
   "id": "555dc8ad",
   "metadata": {},
   "outputs": [],
   "source": [
    "data['driver_race'].fillna(data['driver_race'].mode()[0],inplace=True)"
   ]
  },
  {
   "cell_type": "code",
   "execution_count": 27,
   "id": "5fa9ba7b",
   "metadata": {},
   "outputs": [],
   "source": [
    "data['violation_raw'].fillna(data['violation_raw'].mode()[0],inplace=True)"
   ]
  },
  {
   "cell_type": "code",
   "execution_count": 28,
   "id": "f80a776f",
   "metadata": {},
   "outputs": [],
   "source": [
    "data['violation'].fillna(data['violation'].mode()[0],inplace=True)"
   ]
  },
  {
   "cell_type": "code",
   "execution_count": 29,
   "id": "fb5fe0aa",
   "metadata": {},
   "outputs": [],
   "source": [
    "data['search_type'].fillna(data['search_type'].mode()[0],inplace=True)"
   ]
  },
  {
   "cell_type": "code",
   "execution_count": 30,
   "id": "4e0ae572",
   "metadata": {},
   "outputs": [],
   "source": [
    "data['stop_outcome'].fillna(data['stop_outcome'].mode()[0],inplace=True)"
   ]
  },
  {
   "cell_type": "code",
   "execution_count": 31,
   "id": "fddaaf78",
   "metadata": {},
   "outputs": [],
   "source": [
    "data['is_arrested'].fillna(data['is_arrested'].mode()[0],inplace=True)"
   ]
  },
  {
   "cell_type": "code",
   "execution_count": 32,
   "id": "97e5c04f",
   "metadata": {},
   "outputs": [],
   "source": [
    "data['stop_duration'].fillna(data['stop_duration'].mode()[0],inplace=True)"
   ]
  },
  {
   "cell_type": "code",
   "execution_count": 33,
   "id": "b17f1356",
   "metadata": {},
   "outputs": [
    {
     "data": {
      "text/plain": [
       "stop_date             0\n",
       "stop_time             0\n",
       "driver_gender         0\n",
       "driver_age_raw        0\n",
       "driver_age            0\n",
       "driver_race           0\n",
       "violation_raw         0\n",
       "violation             0\n",
       "search_conducted      0\n",
       "search_type           0\n",
       "stop_outcome          0\n",
       "is_arrested           0\n",
       "stop_duration         0\n",
       "drugs_related_stop    0\n",
       "driver_age_raw_log    0\n",
       "driver_age_log        0\n",
       "dtype: int64"
      ]
     },
     "execution_count": 33,
     "metadata": {},
     "output_type": "execute_result"
    }
   ],
   "source": [
    "data.isnull().sum()"
   ]
  },
  {
   "cell_type": "code",
   "execution_count": 34,
   "id": "71d43bc1",
   "metadata": {
    "scrolled": true
   },
   "outputs": [
    {
     "data": {
      "text/html": [
       "<div>\n",
       "<style scoped>\n",
       "    .dataframe tbody tr th:only-of-type {\n",
       "        vertical-align: middle;\n",
       "    }\n",
       "\n",
       "    .dataframe tbody tr th {\n",
       "        vertical-align: top;\n",
       "    }\n",
       "\n",
       "    .dataframe thead th {\n",
       "        text-align: right;\n",
       "    }\n",
       "</style>\n",
       "<table border=\"1\" class=\"dataframe\">\n",
       "  <thead>\n",
       "    <tr style=\"text-align: right;\">\n",
       "      <th></th>\n",
       "      <th>stop_date</th>\n",
       "      <th>stop_time</th>\n",
       "      <th>driver_gender</th>\n",
       "      <th>driver_age_raw</th>\n",
       "      <th>driver_age</th>\n",
       "      <th>driver_race</th>\n",
       "      <th>violation_raw</th>\n",
       "      <th>violation</th>\n",
       "      <th>search_conducted</th>\n",
       "      <th>search_type</th>\n",
       "      <th>stop_outcome</th>\n",
       "      <th>is_arrested</th>\n",
       "      <th>stop_duration</th>\n",
       "      <th>drugs_related_stop</th>\n",
       "      <th>driver_age_raw_log</th>\n",
       "      <th>driver_age_log</th>\n",
       "    </tr>\n",
       "  </thead>\n",
       "  <tbody>\n",
       "    <tr>\n",
       "      <th>0</th>\n",
       "      <td>1/2/2005</td>\n",
       "      <td>1:55</td>\n",
       "      <td>M</td>\n",
       "      <td>1985.000000</td>\n",
       "      <td>20.000000</td>\n",
       "      <td>White</td>\n",
       "      <td>Speeding</td>\n",
       "      <td>Speeding</td>\n",
       "      <td>False</td>\n",
       "      <td>Incident to Arrest</td>\n",
       "      <td>Citation</td>\n",
       "      <td>False</td>\n",
       "      <td>0-15 Min</td>\n",
       "      <td>False</td>\n",
       "      <td>7.593374</td>\n",
       "      <td>2.995732</td>\n",
       "    </tr>\n",
       "    <tr>\n",
       "      <th>1</th>\n",
       "      <td>1/18/2005</td>\n",
       "      <td>8:15</td>\n",
       "      <td>M</td>\n",
       "      <td>1965.000000</td>\n",
       "      <td>40.000000</td>\n",
       "      <td>White</td>\n",
       "      <td>Speeding</td>\n",
       "      <td>Speeding</td>\n",
       "      <td>False</td>\n",
       "      <td>Incident to Arrest</td>\n",
       "      <td>Citation</td>\n",
       "      <td>False</td>\n",
       "      <td>0-15 Min</td>\n",
       "      <td>False</td>\n",
       "      <td>7.583248</td>\n",
       "      <td>3.688879</td>\n",
       "    </tr>\n",
       "    <tr>\n",
       "      <th>2</th>\n",
       "      <td>1/23/2005</td>\n",
       "      <td>23:15</td>\n",
       "      <td>M</td>\n",
       "      <td>1972.000000</td>\n",
       "      <td>33.000000</td>\n",
       "      <td>White</td>\n",
       "      <td>Speeding</td>\n",
       "      <td>Speeding</td>\n",
       "      <td>False</td>\n",
       "      <td>Incident to Arrest</td>\n",
       "      <td>Citation</td>\n",
       "      <td>False</td>\n",
       "      <td>0-15 Min</td>\n",
       "      <td>False</td>\n",
       "      <td>7.586804</td>\n",
       "      <td>3.496508</td>\n",
       "    </tr>\n",
       "    <tr>\n",
       "      <th>3</th>\n",
       "      <td>2/20/2005</td>\n",
       "      <td>17:15</td>\n",
       "      <td>M</td>\n",
       "      <td>1986.000000</td>\n",
       "      <td>19.000000</td>\n",
       "      <td>White</td>\n",
       "      <td>Call for Service</td>\n",
       "      <td>Other</td>\n",
       "      <td>False</td>\n",
       "      <td>Incident to Arrest</td>\n",
       "      <td>Arrest Driver</td>\n",
       "      <td>True</td>\n",
       "      <td>16-30 Min</td>\n",
       "      <td>False</td>\n",
       "      <td>7.593878</td>\n",
       "      <td>2.944439</td>\n",
       "    </tr>\n",
       "    <tr>\n",
       "      <th>4</th>\n",
       "      <td>3/14/2005</td>\n",
       "      <td>10:00</td>\n",
       "      <td>F</td>\n",
       "      <td>1984.000000</td>\n",
       "      <td>21.000000</td>\n",
       "      <td>White</td>\n",
       "      <td>Speeding</td>\n",
       "      <td>Speeding</td>\n",
       "      <td>False</td>\n",
       "      <td>Incident to Arrest</td>\n",
       "      <td>Citation</td>\n",
       "      <td>False</td>\n",
       "      <td>0-15 Min</td>\n",
       "      <td>False</td>\n",
       "      <td>7.592870</td>\n",
       "      <td>3.044522</td>\n",
       "    </tr>\n",
       "    <tr>\n",
       "      <th>...</th>\n",
       "      <td>...</td>\n",
       "      <td>...</td>\n",
       "      <td>...</td>\n",
       "      <td>...</td>\n",
       "      <td>...</td>\n",
       "      <td>...</td>\n",
       "      <td>...</td>\n",
       "      <td>...</td>\n",
       "      <td>...</td>\n",
       "      <td>...</td>\n",
       "      <td>...</td>\n",
       "      <td>...</td>\n",
       "      <td>...</td>\n",
       "      <td>...</td>\n",
       "      <td>...</td>\n",
       "      <td>...</td>\n",
       "    </tr>\n",
       "    <tr>\n",
       "      <th>65530</th>\n",
       "      <td>12/6/2012</td>\n",
       "      <td>17:54</td>\n",
       "      <td>F</td>\n",
       "      <td>1987.000000</td>\n",
       "      <td>25.000000</td>\n",
       "      <td>White</td>\n",
       "      <td>Speeding</td>\n",
       "      <td>Speeding</td>\n",
       "      <td>False</td>\n",
       "      <td>Incident to Arrest</td>\n",
       "      <td>Citation</td>\n",
       "      <td>False</td>\n",
       "      <td>0-15 Min</td>\n",
       "      <td>False</td>\n",
       "      <td>7.594381</td>\n",
       "      <td>3.218876</td>\n",
       "    </tr>\n",
       "    <tr>\n",
       "      <th>65531</th>\n",
       "      <td>12/6/2012</td>\n",
       "      <td>22:22</td>\n",
       "      <td>M</td>\n",
       "      <td>1954.000000</td>\n",
       "      <td>58.000000</td>\n",
       "      <td>White</td>\n",
       "      <td>Speeding</td>\n",
       "      <td>Speeding</td>\n",
       "      <td>False</td>\n",
       "      <td>Incident to Arrest</td>\n",
       "      <td>Warning</td>\n",
       "      <td>False</td>\n",
       "      <td>0-15 Min</td>\n",
       "      <td>False</td>\n",
       "      <td>7.577634</td>\n",
       "      <td>4.060443</td>\n",
       "    </tr>\n",
       "    <tr>\n",
       "      <th>65532</th>\n",
       "      <td>12/6/2012</td>\n",
       "      <td>23:20</td>\n",
       "      <td>M</td>\n",
       "      <td>1985.000000</td>\n",
       "      <td>27.000000</td>\n",
       "      <td>Black</td>\n",
       "      <td>Equipment/Inspection Violation</td>\n",
       "      <td>Equipment</td>\n",
       "      <td>False</td>\n",
       "      <td>Incident to Arrest</td>\n",
       "      <td>Citation</td>\n",
       "      <td>False</td>\n",
       "      <td>0-15 Min</td>\n",
       "      <td>False</td>\n",
       "      <td>7.593374</td>\n",
       "      <td>3.295837</td>\n",
       "    </tr>\n",
       "    <tr>\n",
       "      <th>65533</th>\n",
       "      <td>12/7/2012</td>\n",
       "      <td>0:23</td>\n",
       "      <td>M</td>\n",
       "      <td>1967.791106</td>\n",
       "      <td>34.148984</td>\n",
       "      <td>White</td>\n",
       "      <td>Speeding</td>\n",
       "      <td>Speeding</td>\n",
       "      <td>False</td>\n",
       "      <td>Incident to Arrest</td>\n",
       "      <td>Citation</td>\n",
       "      <td>False</td>\n",
       "      <td>0-15 Min</td>\n",
       "      <td>False</td>\n",
       "      <td>7.584667</td>\n",
       "      <td>3.530733</td>\n",
       "    </tr>\n",
       "    <tr>\n",
       "      <th>65534</th>\n",
       "      <td>12/7/2012</td>\n",
       "      <td>0:30</td>\n",
       "      <td>F</td>\n",
       "      <td>1985.000000</td>\n",
       "      <td>27.000000</td>\n",
       "      <td>White</td>\n",
       "      <td>Speeding</td>\n",
       "      <td>Speeding</td>\n",
       "      <td>False</td>\n",
       "      <td>Incident to Arrest</td>\n",
       "      <td>Citation</td>\n",
       "      <td>False</td>\n",
       "      <td>0-15 Min</td>\n",
       "      <td>False</td>\n",
       "      <td>7.593374</td>\n",
       "      <td>3.295837</td>\n",
       "    </tr>\n",
       "  </tbody>\n",
       "</table>\n",
       "<p>65535 rows × 16 columns</p>\n",
       "</div>"
      ],
      "text/plain": [
       "       stop_date stop_time driver_gender  driver_age_raw  driver_age  \\\n",
       "0       1/2/2005      1:55             M     1985.000000   20.000000   \n",
       "1      1/18/2005      8:15             M     1965.000000   40.000000   \n",
       "2      1/23/2005     23:15             M     1972.000000   33.000000   \n",
       "3      2/20/2005     17:15             M     1986.000000   19.000000   \n",
       "4      3/14/2005     10:00             F     1984.000000   21.000000   \n",
       "...          ...       ...           ...             ...         ...   \n",
       "65530  12/6/2012     17:54             F     1987.000000   25.000000   \n",
       "65531  12/6/2012     22:22             M     1954.000000   58.000000   \n",
       "65532  12/6/2012     23:20             M     1985.000000   27.000000   \n",
       "65533  12/7/2012      0:23             M     1967.791106   34.148984   \n",
       "65534  12/7/2012      0:30             F     1985.000000   27.000000   \n",
       "\n",
       "      driver_race                   violation_raw  violation  \\\n",
       "0           White                        Speeding   Speeding   \n",
       "1           White                        Speeding   Speeding   \n",
       "2           White                        Speeding   Speeding   \n",
       "3           White                Call for Service      Other   \n",
       "4           White                        Speeding   Speeding   \n",
       "...           ...                             ...        ...   \n",
       "65530       White                        Speeding   Speeding   \n",
       "65531       White                        Speeding   Speeding   \n",
       "65532       Black  Equipment/Inspection Violation  Equipment   \n",
       "65533       White                        Speeding   Speeding   \n",
       "65534       White                        Speeding   Speeding   \n",
       "\n",
       "       search_conducted         search_type   stop_outcome  is_arrested  \\\n",
       "0                 False  Incident to Arrest       Citation        False   \n",
       "1                 False  Incident to Arrest       Citation        False   \n",
       "2                 False  Incident to Arrest       Citation        False   \n",
       "3                 False  Incident to Arrest  Arrest Driver         True   \n",
       "4                 False  Incident to Arrest       Citation        False   \n",
       "...                 ...                 ...            ...          ...   \n",
       "65530             False  Incident to Arrest       Citation        False   \n",
       "65531             False  Incident to Arrest        Warning        False   \n",
       "65532             False  Incident to Arrest       Citation        False   \n",
       "65533             False  Incident to Arrest       Citation        False   \n",
       "65534             False  Incident to Arrest       Citation        False   \n",
       "\n",
       "      stop_duration  drugs_related_stop  driver_age_raw_log  driver_age_log  \n",
       "0          0-15 Min               False            7.593374        2.995732  \n",
       "1          0-15 Min               False            7.583248        3.688879  \n",
       "2          0-15 Min               False            7.586804        3.496508  \n",
       "3         16-30 Min               False            7.593878        2.944439  \n",
       "4          0-15 Min               False            7.592870        3.044522  \n",
       "...             ...                 ...                 ...             ...  \n",
       "65530      0-15 Min               False            7.594381        3.218876  \n",
       "65531      0-15 Min               False            7.577634        4.060443  \n",
       "65532      0-15 Min               False            7.593374        3.295837  \n",
       "65533      0-15 Min               False            7.584667        3.530733  \n",
       "65534      0-15 Min               False            7.593374        3.295837  \n",
       "\n",
       "[65535 rows x 16 columns]"
      ]
     },
     "execution_count": 34,
     "metadata": {},
     "output_type": "execute_result"
    }
   ],
   "source": [
    "data"
   ]
  },
  {
   "cell_type": "code",
   "execution_count": null,
   "id": "28178044",
   "metadata": {},
   "outputs": [],
   "source": []
  },
  {
   "cell_type": "code",
   "execution_count": 35,
   "id": "ae59c31a",
   "metadata": {},
   "outputs": [],
   "source": [
    "data = pd.get_dummies(data,columns=['driver_gender','driver_race','violation_raw','violation','search_conducted','search_type','is_arrested','drugs_related_stop'])"
   ]
  },
  {
   "cell_type": "code",
   "execution_count": 36,
   "id": "1c8c8d29",
   "metadata": {},
   "outputs": [],
   "source": [
    "data['stop_date'] = pd.to_datetime(data['stop_date'])"
   ]
  },
  {
   "cell_type": "code",
   "execution_count": 37,
   "id": "207a15f8",
   "metadata": {
    "scrolled": true
   },
   "outputs": [],
   "source": [
    "data.set_index('stop_date',drop=True,inplace=True)"
   ]
  },
  {
   "cell_type": "code",
   "execution_count": 38,
   "id": "d3c821e2",
   "metadata": {},
   "outputs": [],
   "source": [
    "x = data.drop(columns=['stop_time','driver_age_raw','stop_duration','stop_outcome'],axis=1)\n",
    "y = data['stop_outcome']"
   ]
  },
  {
   "cell_type": "code",
   "execution_count": null,
   "id": "31f54dbd",
   "metadata": {},
   "outputs": [],
   "source": []
  },
  {
   "cell_type": "code",
   "execution_count": 39,
   "id": "e1c86498",
   "metadata": {},
   "outputs": [],
   "source": [
    "y = pd.get_dummies(y,columns=['stop_outcome'])"
   ]
  },
  {
   "cell_type": "code",
   "execution_count": 40,
   "id": "b4aa77e2",
   "metadata": {},
   "outputs": [
    {
     "data": {
      "text/html": [
       "<div>\n",
       "<style scoped>\n",
       "    .dataframe tbody tr th:only-of-type {\n",
       "        vertical-align: middle;\n",
       "    }\n",
       "\n",
       "    .dataframe tbody tr th {\n",
       "        vertical-align: top;\n",
       "    }\n",
       "\n",
       "    .dataframe thead th {\n",
       "        text-align: right;\n",
       "    }\n",
       "</style>\n",
       "<table border=\"1\" class=\"dataframe\">\n",
       "  <thead>\n",
       "    <tr style=\"text-align: right;\">\n",
       "      <th></th>\n",
       "      <th>Arrest Driver</th>\n",
       "      <th>Arrest Passenger</th>\n",
       "      <th>Citation</th>\n",
       "      <th>N/D</th>\n",
       "      <th>No Action</th>\n",
       "      <th>Warning</th>\n",
       "    </tr>\n",
       "    <tr>\n",
       "      <th>stop_date</th>\n",
       "      <th></th>\n",
       "      <th></th>\n",
       "      <th></th>\n",
       "      <th></th>\n",
       "      <th></th>\n",
       "      <th></th>\n",
       "    </tr>\n",
       "  </thead>\n",
       "  <tbody>\n",
       "    <tr>\n",
       "      <th>2005-01-02</th>\n",
       "      <td>0</td>\n",
       "      <td>0</td>\n",
       "      <td>1</td>\n",
       "      <td>0</td>\n",
       "      <td>0</td>\n",
       "      <td>0</td>\n",
       "    </tr>\n",
       "    <tr>\n",
       "      <th>2005-01-18</th>\n",
       "      <td>0</td>\n",
       "      <td>0</td>\n",
       "      <td>1</td>\n",
       "      <td>0</td>\n",
       "      <td>0</td>\n",
       "      <td>0</td>\n",
       "    </tr>\n",
       "    <tr>\n",
       "      <th>2005-01-23</th>\n",
       "      <td>0</td>\n",
       "      <td>0</td>\n",
       "      <td>1</td>\n",
       "      <td>0</td>\n",
       "      <td>0</td>\n",
       "      <td>0</td>\n",
       "    </tr>\n",
       "    <tr>\n",
       "      <th>2005-02-20</th>\n",
       "      <td>1</td>\n",
       "      <td>0</td>\n",
       "      <td>0</td>\n",
       "      <td>0</td>\n",
       "      <td>0</td>\n",
       "      <td>0</td>\n",
       "    </tr>\n",
       "    <tr>\n",
       "      <th>2005-03-14</th>\n",
       "      <td>0</td>\n",
       "      <td>0</td>\n",
       "      <td>1</td>\n",
       "      <td>0</td>\n",
       "      <td>0</td>\n",
       "      <td>0</td>\n",
       "    </tr>\n",
       "    <tr>\n",
       "      <th>...</th>\n",
       "      <td>...</td>\n",
       "      <td>...</td>\n",
       "      <td>...</td>\n",
       "      <td>...</td>\n",
       "      <td>...</td>\n",
       "      <td>...</td>\n",
       "    </tr>\n",
       "    <tr>\n",
       "      <th>2012-12-06</th>\n",
       "      <td>0</td>\n",
       "      <td>0</td>\n",
       "      <td>1</td>\n",
       "      <td>0</td>\n",
       "      <td>0</td>\n",
       "      <td>0</td>\n",
       "    </tr>\n",
       "    <tr>\n",
       "      <th>2012-12-06</th>\n",
       "      <td>0</td>\n",
       "      <td>0</td>\n",
       "      <td>0</td>\n",
       "      <td>0</td>\n",
       "      <td>0</td>\n",
       "      <td>1</td>\n",
       "    </tr>\n",
       "    <tr>\n",
       "      <th>2012-12-06</th>\n",
       "      <td>0</td>\n",
       "      <td>0</td>\n",
       "      <td>1</td>\n",
       "      <td>0</td>\n",
       "      <td>0</td>\n",
       "      <td>0</td>\n",
       "    </tr>\n",
       "    <tr>\n",
       "      <th>2012-12-07</th>\n",
       "      <td>0</td>\n",
       "      <td>0</td>\n",
       "      <td>1</td>\n",
       "      <td>0</td>\n",
       "      <td>0</td>\n",
       "      <td>0</td>\n",
       "    </tr>\n",
       "    <tr>\n",
       "      <th>2012-12-07</th>\n",
       "      <td>0</td>\n",
       "      <td>0</td>\n",
       "      <td>1</td>\n",
       "      <td>0</td>\n",
       "      <td>0</td>\n",
       "      <td>0</td>\n",
       "    </tr>\n",
       "  </tbody>\n",
       "</table>\n",
       "<p>65535 rows × 6 columns</p>\n",
       "</div>"
      ],
      "text/plain": [
       "            Arrest Driver  Arrest Passenger  Citation  N/D  No Action  Warning\n",
       "stop_date                                                                     \n",
       "2005-01-02              0                 0         1    0          0        0\n",
       "2005-01-18              0                 0         1    0          0        0\n",
       "2005-01-23              0                 0         1    0          0        0\n",
       "2005-02-20              1                 0         0    0          0        0\n",
       "2005-03-14              0                 0         1    0          0        0\n",
       "...                   ...               ...       ...  ...        ...      ...\n",
       "2012-12-06              0                 0         1    0          0        0\n",
       "2012-12-06              0                 0         0    0          0        1\n",
       "2012-12-06              0                 0         1    0          0        0\n",
       "2012-12-07              0                 0         1    0          0        0\n",
       "2012-12-07              0                 0         1    0          0        0\n",
       "\n",
       "[65535 rows x 6 columns]"
      ]
     },
     "execution_count": 40,
     "metadata": {},
     "output_type": "execute_result"
    }
   ],
   "source": [
    "y"
   ]
  },
  {
   "cell_type": "code",
   "execution_count": 41,
   "id": "318a698c",
   "metadata": {},
   "outputs": [],
   "source": [
    "from sklearn.model_selection import train_test_split"
   ]
  },
  {
   "cell_type": "code",
   "execution_count": 42,
   "id": "96a4c6e4",
   "metadata": {},
   "outputs": [],
   "source": [
    "x_train,x_test,y_train,y_test = train_test_split(x,y,test_size=0.20,random_state=0)"
   ]
  },
  {
   "cell_type": "code",
   "execution_count": 43,
   "id": "11ec7544",
   "metadata": {},
   "outputs": [],
   "source": [
    "from sklearn.pipeline import make_pipeline\n",
    "from sklearn.linear_model import Ridge,LinearRegression,Lasso\n"
   ]
  },
  {
   "cell_type": "code",
   "execution_count": 44,
   "id": "260747dc",
   "metadata": {},
   "outputs": [],
   "source": [
    "from sklearn.preprocessing import OneHotEncoder,StandardScaler,PolynomialFeatures"
   ]
  },
  {
   "cell_type": "code",
   "execution_count": 45,
   "id": "3a6ea07e",
   "metadata": {},
   "outputs": [],
   "source": [
    "from sklearn.tree import DecisionTreeClassifier"
   ]
  },
  {
   "cell_type": "code",
   "execution_count": 46,
   "id": "621be70d",
   "metadata": {},
   "outputs": [],
   "source": [
    "pipe = make_pipeline(PolynomialFeatures(), DecisionTreeClassifier(max_depth = 5))"
   ]
  },
  {
   "cell_type": "code",
   "execution_count": 47,
   "id": "b8abafc2",
   "metadata": {},
   "outputs": [
    {
     "data": {
      "text/html": [
       "<style>#sk-container-id-1 {color: black;background-color: white;}#sk-container-id-1 pre{padding: 0;}#sk-container-id-1 div.sk-toggleable {background-color: white;}#sk-container-id-1 label.sk-toggleable__label {cursor: pointer;display: block;width: 100%;margin-bottom: 0;padding: 0.3em;box-sizing: border-box;text-align: center;}#sk-container-id-1 label.sk-toggleable__label-arrow:before {content: \"▸\";float: left;margin-right: 0.25em;color: #696969;}#sk-container-id-1 label.sk-toggleable__label-arrow:hover:before {color: black;}#sk-container-id-1 div.sk-estimator:hover label.sk-toggleable__label-arrow:before {color: black;}#sk-container-id-1 div.sk-toggleable__content {max-height: 0;max-width: 0;overflow: hidden;text-align: left;background-color: #f0f8ff;}#sk-container-id-1 div.sk-toggleable__content pre {margin: 0.2em;color: black;border-radius: 0.25em;background-color: #f0f8ff;}#sk-container-id-1 input.sk-toggleable__control:checked~div.sk-toggleable__content {max-height: 200px;max-width: 100%;overflow: auto;}#sk-container-id-1 input.sk-toggleable__control:checked~label.sk-toggleable__label-arrow:before {content: \"▾\";}#sk-container-id-1 div.sk-estimator input.sk-toggleable__control:checked~label.sk-toggleable__label {background-color: #d4ebff;}#sk-container-id-1 div.sk-label input.sk-toggleable__control:checked~label.sk-toggleable__label {background-color: #d4ebff;}#sk-container-id-1 input.sk-hidden--visually {border: 0;clip: rect(1px 1px 1px 1px);clip: rect(1px, 1px, 1px, 1px);height: 1px;margin: -1px;overflow: hidden;padding: 0;position: absolute;width: 1px;}#sk-container-id-1 div.sk-estimator {font-family: monospace;background-color: #f0f8ff;border: 1px dotted black;border-radius: 0.25em;box-sizing: border-box;margin-bottom: 0.5em;}#sk-container-id-1 div.sk-estimator:hover {background-color: #d4ebff;}#sk-container-id-1 div.sk-parallel-item::after {content: \"\";width: 100%;border-bottom: 1px solid gray;flex-grow: 1;}#sk-container-id-1 div.sk-label:hover label.sk-toggleable__label {background-color: #d4ebff;}#sk-container-id-1 div.sk-serial::before {content: \"\";position: absolute;border-left: 1px solid gray;box-sizing: border-box;top: 0;bottom: 0;left: 50%;z-index: 0;}#sk-container-id-1 div.sk-serial {display: flex;flex-direction: column;align-items: center;background-color: white;padding-right: 0.2em;padding-left: 0.2em;position: relative;}#sk-container-id-1 div.sk-item {position: relative;z-index: 1;}#sk-container-id-1 div.sk-parallel {display: flex;align-items: stretch;justify-content: center;background-color: white;position: relative;}#sk-container-id-1 div.sk-item::before, #sk-container-id-1 div.sk-parallel-item::before {content: \"\";position: absolute;border-left: 1px solid gray;box-sizing: border-box;top: 0;bottom: 0;left: 50%;z-index: -1;}#sk-container-id-1 div.sk-parallel-item {display: flex;flex-direction: column;z-index: 1;position: relative;background-color: white;}#sk-container-id-1 div.sk-parallel-item:first-child::after {align-self: flex-end;width: 50%;}#sk-container-id-1 div.sk-parallel-item:last-child::after {align-self: flex-start;width: 50%;}#sk-container-id-1 div.sk-parallel-item:only-child::after {width: 0;}#sk-container-id-1 div.sk-dashed-wrapped {border: 1px dashed gray;margin: 0 0.4em 0.5em 0.4em;box-sizing: border-box;padding-bottom: 0.4em;background-color: white;}#sk-container-id-1 div.sk-label label {font-family: monospace;font-weight: bold;display: inline-block;line-height: 1.2em;}#sk-container-id-1 div.sk-label-container {text-align: center;}#sk-container-id-1 div.sk-container {/* jupyter's `normalize.less` sets `[hidden] { display: none; }` but bootstrap.min.css set `[hidden] { display: none !important; }` so we also need the `!important` here to be able to override the default hidden behavior on the sphinx rendered scikit-learn.org. See: https://github.com/scikit-learn/scikit-learn/issues/21755 */display: inline-block !important;position: relative;}#sk-container-id-1 div.sk-text-repr-fallback {display: none;}</style><div id=\"sk-container-id-1\" class=\"sk-top-container\"><div class=\"sk-text-repr-fallback\"><pre>Pipeline(steps=[(&#x27;polynomialfeatures&#x27;, PolynomialFeatures()),\n",
       "                (&#x27;decisiontreeclassifier&#x27;,\n",
       "                 DecisionTreeClassifier(max_depth=5))])</pre><b>In a Jupyter environment, please rerun this cell to show the HTML representation or trust the notebook. <br />On GitHub, the HTML representation is unable to render, please try loading this page with nbviewer.org.</b></div><div class=\"sk-container\" hidden><div class=\"sk-item sk-dashed-wrapped\"><div class=\"sk-label-container\"><div class=\"sk-label sk-toggleable\"><input class=\"sk-toggleable__control sk-hidden--visually\" id=\"sk-estimator-id-1\" type=\"checkbox\" ><label for=\"sk-estimator-id-1\" class=\"sk-toggleable__label sk-toggleable__label-arrow\">Pipeline</label><div class=\"sk-toggleable__content\"><pre>Pipeline(steps=[(&#x27;polynomialfeatures&#x27;, PolynomialFeatures()),\n",
       "                (&#x27;decisiontreeclassifier&#x27;,\n",
       "                 DecisionTreeClassifier(max_depth=5))])</pre></div></div></div><div class=\"sk-serial\"><div class=\"sk-item\"><div class=\"sk-estimator sk-toggleable\"><input class=\"sk-toggleable__control sk-hidden--visually\" id=\"sk-estimator-id-2\" type=\"checkbox\" ><label for=\"sk-estimator-id-2\" class=\"sk-toggleable__label sk-toggleable__label-arrow\">PolynomialFeatures</label><div class=\"sk-toggleable__content\"><pre>PolynomialFeatures()</pre></div></div></div><div class=\"sk-item\"><div class=\"sk-estimator sk-toggleable\"><input class=\"sk-toggleable__control sk-hidden--visually\" id=\"sk-estimator-id-3\" type=\"checkbox\" ><label for=\"sk-estimator-id-3\" class=\"sk-toggleable__label sk-toggleable__label-arrow\">DecisionTreeClassifier</label><div class=\"sk-toggleable__content\"><pre>DecisionTreeClassifier(max_depth=5)</pre></div></div></div></div></div></div></div>"
      ],
      "text/plain": [
       "Pipeline(steps=[('polynomialfeatures', PolynomialFeatures()),\n",
       "                ('decisiontreeclassifier',\n",
       "                 DecisionTreeClassifier(max_depth=5))])"
      ]
     },
     "execution_count": 47,
     "metadata": {},
     "output_type": "execute_result"
    }
   ],
   "source": [
    "pipe.fit(x_train,y_train)"
   ]
  },
  {
   "cell_type": "code",
   "execution_count": 48,
   "id": "596d95b4",
   "metadata": {},
   "outputs": [
    {
     "data": {
      "text/plain": [
       "0.9564736400396735"
      ]
     },
     "execution_count": 48,
     "metadata": {},
     "output_type": "execute_result"
    }
   ],
   "source": [
    "pipe.score(x_train,y_train)"
   ]
  },
  {
   "cell_type": "code",
   "execution_count": null,
   "id": "c5a69eed",
   "metadata": {},
   "outputs": [],
   "source": []
  },
  {
   "cell_type": "code",
   "execution_count": 49,
   "id": "d2dafaf6",
   "metadata": {},
   "outputs": [],
   "source": [
    "from sklearn.model_selection import KFold, cross_val_score\n",
    "dtclassifier = DecisionTreeClassifier()"
   ]
  },
  {
   "cell_type": "code",
   "execution_count": 50,
   "id": "b7e46d6f",
   "metadata": {},
   "outputs": [],
   "source": [
    "k_folds = KFold(n_splits = 10)\n",
    "\n",
    "scores = cross_val_score(dtclassifier, x_train, y_train, cv = k_folds)"
   ]
  },
  {
   "cell_type": "code",
   "execution_count": 51,
   "id": "914e1a52",
   "metadata": {},
   "outputs": [
    {
     "name": "stdout",
     "output_type": "stream",
     "text": [
      "[0.93839405 0.93629601 0.93877551 0.93477017 0.93438871 0.93229067\n",
      " 0.93648674 0.94087355 0.93342236 0.93628386]\n"
     ]
    }
   ],
   "source": [
    "print(scores)"
   ]
  },
  {
   "cell_type": "code",
   "execution_count": 52,
   "id": "8f7a316d",
   "metadata": {},
   "outputs": [
    {
     "name": "stdout",
     "output_type": "stream",
     "text": [
      "0.9361981633839214\n"
     ]
    }
   ],
   "source": [
    "print(scores.mean())"
   ]
  },
  {
   "cell_type": "code",
   "execution_count": null,
   "id": "672e65fb",
   "metadata": {},
   "outputs": [],
   "source": []
  }
 ],
 "metadata": {
  "kernelspec": {
   "display_name": "Python 3 (ipykernel)",
   "language": "python",
   "name": "python3"
  },
  "language_info": {
   "codemirror_mode": {
    "name": "ipython",
    "version": 3
   },
   "file_extension": ".py",
   "mimetype": "text/x-python",
   "name": "python",
   "nbconvert_exporter": "python",
   "pygments_lexer": "ipython3",
   "version": "3.9.7"
  }
 },
 "nbformat": 4,
 "nbformat_minor": 5
}
